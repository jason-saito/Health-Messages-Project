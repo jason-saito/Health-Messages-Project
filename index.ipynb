{
 "cells": [
  {
   "cell_type": "markdown",
   "id": "21c9ca23-cb4f-4cd9-b90e-fde39906bd03",
   "metadata": {},
   "source": [
    "# Our Process"
   ]
  },
  {
   "cell_type": "markdown",
   "id": "a1960242-a9cb-46e2-8b5b-337861ab7444",
   "metadata": {},
   "source": [
    "First, we used Chat GPT 3 to produce a quick summary of our project, a catchy name and slogan, as well as some ideas on how to target our audience (kids under 21). We then moved to Chat GPT 4 to produce some imagery of our campaign: social media content, posters, flyers, and potential anti-vaping commercial images. We created our images based on ideas that GPT 4 gave us on why people vape (Peer Pressure, Curiosity and Experimentation, Flavored Vape Products, Perceived Lower Health Risks, Marketing and Accessibility, Influence of Social Media and Celebrities, Stress and Mental Health, and Family Influence). \n",
    "\n",
    "Next, we prompted GPT 4 to create a list of social media captions to go with the images that will be posted. We wanted the captions and social media content to appeal to the age of our target audience, so we had the LLM rewrite the captions to adhere to the language that teenagers use. We found that this would help the campaign be more relatable.\n",
    "\n",
    "After being prompted with these social media posts, we asked ChatGPT to evaluate the effectiveness of these messages. We also asked ChatGPT to pretend it was a teenager who vapes and asked it to re-write the captions to be more persuasive towards our target audience.  "
   ]
  },
  {
   "cell_type": "markdown",
   "id": "6b60d9a1-e90d-4bec-b98b-acfb87ffe3e5",
   "metadata": {},
   "source": [
    "# Our Goal for the Process"
   ]
  },
  {
   "cell_type": "markdown",
   "id": "b1a5d909-a336-4c60-aa35-8172f10556d0",
   "metadata": {},
   "source": [
    "Our goal for this project was to create a moving campaign to help kids under 21 stop the unhealthy habit of vaping. Vaping can be extremely harmful and addictive, and this is a major health concern among young adults. Creating a campaign that is relatable and appeals to our age group was crucial. People under 21 typically go for vape products that are sweet and candy-like, so we wanted to put a big emphasis on how toxic vaping is under the sweetened flavors. In addition, peer pressure is a major factor in substance abuse in general, so we wanted to call this out to make it known. "
   ]
  },
  {
   "cell_type": "markdown",
   "id": "188d278a-ac5c-452e-a221-e6de383753a2",
   "metadata": {},
   "source": [
    "# Asking AI"
   ]
  },
  {
   "cell_type": "markdown",
   "id": "0a414b1d-bd19-43fe-88dd-181c77dd1cda",
   "metadata": {},
   "source": [
    "### Why Do Children Vape?\n",
    "\n",
    "Underage vaping can be attributed to several factors, each playing a role in influencing young people to try and continue using vape products:\n",
    "\n",
    "**Peer Pressure**: One of the most significant factors is the influence of peers. Adolescents and teenagers may feel compelled to try vaping to fit in or be accepted by their peers.\n",
    "\n",
    "**Curiosity and Experimentation**: At a young age, there's a natural tendency to explore and experiment with new experiences, including the use of vape products.\n",
    "\n",
    "**Flavored Vape Products**: The availability of vape juices in a variety of appealing flavors, such as fruit, candy, and dessert, can attract younger users who might find traditional tobacco flavors unappealing.\n",
    "\n",
    "**Perceived Lower Health Risks**: Many youths believe that vaping is less harmful than smoking traditional cigarettes, leading to the misconception that it's a safer alternative.\n",
    "\n",
    "**Marketing and Accessibility**: Aggressive marketing strategies and the widespread availability of vape products online and in stores can increase their appeal to the youth. Although laws restrict the sale of vape products to minors, underage individuals may still find ways to obtain them.\n",
    "\n",
    "**Influence of Social Media and Celebrities**: Social media platforms and celebrity endorsements can also play a significant role in glamorizing vaping, making it appear trendy or fashionable to young audiences.\n",
    "\n",
    "**Stress and Mental Health**: Some young people may use vaping as a way to cope with stress, anxiety, or depression, believing that it can help them relax or feel better.\n",
    "\n",
    "**Family Influence**: Exposure to family members who vape or smoke can also normalize the behavior, making it more likely for young people to start vaping themselves.\n",
    "\n",
    "Addressing underage vaping requires a comprehensive approach that includes education, regulation, and support for young people to make healthy choices."
   ]
  },
  {
   "cell_type": "markdown",
   "id": "818c4537-b8b1-47ce-bcaa-0c980c3f6b7e",
   "metadata": {},
   "source": [
    "### Generate Social Media Captions to Combat Under Age Vaping\n",
    "**Peer Pressure**\n",
    "\"Don't let the cloud of peer pressure fog your future. Choose your path, not the crowd's. #BeYourself #ResistPeerPressure\"\n",
    "\n",
    "**Curiosity and Experimentation**\n",
    "\"Curiosity can lead to discovery, but not all discoveries are worth the risk. Know what's at stake before you vape. #ChooseWisely #VapeFacts\"\n",
    "\n",
    "**Flavored Vape Products**\n",
    "\"Flavors may entice, but the consequences aren't nice. Don't let sweet flavors trap you into a bitter habit. #BeyondTheFlavor #ThinkBeforeYouVape\"\n",
    "\n",
    "**Perceived Lower Health Risks**\n",
    "\"Less harmful doesn't mean harmless. Vaping's hidden dangers can still harm your health. #ClearTheAir #KnowTheFacts\"\n",
    "\n",
    "**Marketing and Accessibility**\n",
    "\"Just because it's marketed to you, doesn't mean it's meant for you. See through the smoke of vape marketing. #NotBuyingIt #StayAware\"\n",
    "\n",
    "**Influence of Social Media and Celebrities**\n",
    "\"Don't let likes and trends dictate your health decisions. Be smart, not swayed. #RealInfluence #MakeSmartChoices\"\n",
    "\n",
    "**Stress and Mental Health**\n",
    "\"Seeking solace in a vape pen won't pen down your stress. Find healthier ways to deal with life's tests. #HealthyCoping #MindOverVapor\"\n",
    "\n",
    "**Family Influence**\n",
    "\"Family habits don't have to be your destiny. Break the cycle, choose a healthier path. #ForgeYourOwnPath #HealthyLegacy\"\n",
    "\n",
    "Addressing underage vaping requires a united front of awareness, education, and support. Through these messages, we aim to encourage young individuals to make informed, healthy choices for their futures.\n"
   ]
  },
  {
   "cell_type": "markdown",
   "id": "9f197bc3-7209-4270-8cf6-7475996cd181",
   "metadata": {},
   "source": [
    "# Generated Social Media Posts\n",
    "<a href = \"Instagram.pdf\">Check out the generated social media posts here!</a>"
   ]
  },
  {
   "cell_type": "markdown",
   "id": "dc7b9e86-d33f-49ac-a898-461d42548dd3",
   "metadata": {},
   "source": [
    "# Evaluation\n",
    "### Evaluate the Effectiveness of Our Social Media Posts (Provided Both the Images and Captions)\n",
    "These images present a strong visual narrative that could effectively communicate the risks and concerns associated with underage vaping:\n",
    "\n",
    "1. Marketing and Accessibility: The portrayal of a teenager faced with a giant, enticing billboard draws attention to how marketing strategies are designed to appeal directly to youth, possibly swaying their decision-making.\n",
    "\n",
    "2. Flavored Vape Products: Juxtaposing fruit imagery with vape devices illustrates the danger behind the appealing flavors, suggesting that they're a facade for the harmful nature of the products.\n",
    "\n",
    "3. Curiosity and Experimentation: A maze-like brain implies the complexity of youthful curiosity and the many paths it can take, with a clear suggestion that some paths (like vaping) are dead ends.\n",
    "\n",
    "4. Candy-Flavored Vapes: The imagery of candy combined with the ominous presence of skulls and the grim reaper effectively warns of the potentially deadly consequences of what seems like a harmless, sweet-flavored vape.\n",
    "\n",
    "Each graphic is targeted and visually compelling, potentially resonating well with an underage audience by drawing clear lines between the marketed appeal of vaping and its real-life risks.\n",
    "\n",
    "### Breakdown the Strengths and Weaknesses of the Posts\n",
    "**Strengths**:\n",
    "1. Visual Impact: Each image is striking and visually engaging, which is vital for catching the attention of the target audience—teens and young adults who are often bombarded with visual stimuli.\n",
    "   \n",
    "2. Clear Messaging: The slogans are bold and clear, providing an unmistakable takeaway message against vaping.\n",
    "\n",
    "3. Relatability: The scenarios depicted reflect everyday situations that teens might find themselves in, such as standing in front of a billboard or being surrounded by peers, making the message more relatable.\n",
    "\n",
    "4. Creativity: The use of colorful and artistic designs can appeal to the younger demographic, who may be more drawn to creative and less traditional forms of messaging.\n",
    "\n",
    "5. Symbolism: The images use strong symbolic elements—like the brain maze and the reaper—to convey the dangers of vaping, which can be a powerful way to communicate complex messages quickly.\n",
    "\n",
    "**Weaknesses**:\n",
    "1. Complexity of Visuals: While creative, some images are quite busy and could potentially overwhelm the viewer, detracting from the core message.\n",
    "\n",
    "2. Mixed Messages: The use of vibrant colors and attractive design elements, especially in the candy and fruit-flavored vape images, might inadvertently glamorize the vaping devices they aim to condemn.\n",
    "\n",
    "3. Slogans and Readability: In some images, the slogans are part of a complex visual and could be difficult to read quickly or from a distance, which is not ideal for billboards or fast-scrolling on social media.\n",
    "\n",
    "4. Scare Tactics: Some images may be too intense or use scare tactics that could cause the audience to disengage, especially if the viewer is prone to defiance or skepticism of dramatic claims.\n",
    "\n",
    "5. Cultural Sensitivity: Depending on the audience's cultural background, some imagery, like the reaper, might be interpreted differently, possibly reducing the effectiveness of the message.\n",
    "\n",
    "Overall, while these images are compelling and could be quite effective as part of an anti-vaping campaign, it's important to balance creativity with clarity and ensure the visuals support and do not overshadow the intended message.\n"
   ]
  },
  {
   "cell_type": "markdown",
   "id": "f998cbff-439d-40aa-94e1-367a2776a6cd",
   "metadata": {},
   "source": [
    "# Our Evaluation\n",
    "ChatGPT 4 did a good job of generating images and social media captions. However, there were some notable flaws in its outputs. We found four major flaws in GPT4's responses \n",
    "\n",
    "**1) Misspellings**\n",
    "\n",
    "We frequently found that there were misspellings in the images. Whether that be words being misspelled or letters in words being incorrectly produced, these errors happened pretty frequently. In addition, we’d see this error in numbers as well. \n",
    "\n",
    "**2) Inability to make small changes to images**\n",
    "\n",
    "When these typos occurred, we would ask GPT4 to regenerate these images whether that be through instructions such as “fix the spelling of X word” or “regenerate the image with proper spelling on the sign.” However, we would found that GPT4 either would change the phrasing of the text in the image or generate a completely new image. \n",
    "\n",
    "**3) Consistent Art Styles**\n",
    "\n",
    "When first creating the images for the social media posts, we assumed that art styles would be consistent across images as the image generation was completed through one prompt. However, we found that no two images had the same style, suggesting that GPT4 has difficulty generating images with the same style. In addition, when we explicitly asked GPT4 to maintain the same art style and make a slight modification, it would completely change the art style of the image. \n",
    "\n",
    "Overall, ChatGPT-4 really excels at its ability to produce creative captions and understand the audience it’s writing to. However, it struggles to generate images with accurate spellings and consistent art styles. "
   ]
  }
 ],
 "metadata": {
  "citation-manager": {
   "items": {}
  },
  "kernelspec": {
   "display_name": "Python 3.11 (COMM4190)",
   "language": "python",
   "name": "comm4190"
  },
  "language_info": {
   "codemirror_mode": {
    "name": "ipython",
    "version": 3
   },
   "file_extension": ".py",
   "mimetype": "text/x-python",
   "name": "python",
   "nbconvert_exporter": "python",
   "pygments_lexer": "ipython3",
   "version": "3.11.7"
  }
 },
 "nbformat": 4,
 "nbformat_minor": 5
}
